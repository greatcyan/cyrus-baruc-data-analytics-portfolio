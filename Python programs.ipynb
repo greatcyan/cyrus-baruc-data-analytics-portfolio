{
 "cells": [
  {
   "cell_type": "markdown",
   "id": "c9a3ac3b-8896-477a-80f8-d715e4f28cc1",
   "metadata": {},
   "source": [
    "## Python Programs\n",
    "Explore a comprehensive archive of Python projects, scripts, and explorations. Whether you're here to learn, explore, or review, find a variety of programs organized for easy navigation and reference.\n",
    "\"\n"
   ]
  },
  {
   "cell_type": "markdown",
   "id": "51b7cf4c-2a2b-4fff-9e8a-ae82f66e922d",
   "metadata": {},
   "source": [
    "**Challenge1**\n",
    "\n",
    "Create a program that asks the user for two integers (you will have to call`input()` twice). The program prints the sum of the values"
   ]
  },
  {
   "cell_type": "code",
   "execution_count": 12,
   "id": "be491e2d-e64f-4fd0-8ef4-a8dff5e4918e",
   "metadata": {},
   "outputs": [
    {
     "name": "stdin",
     "output_type": "stream",
     "text": [
      "Enter any number below: 5\n",
      "Enter another number: 15\n"
     ]
    },
    {
     "name": "stdout",
     "output_type": "stream",
     "text": [
      "Total is: 20\n"
     ]
    }
   ],
   "source": [
    "# Solution:\n",
    "\n",
    "num1 = input(\"Enter any number below:\")\n",
    "num2 = input(\"Enter another number:\")\n",
    "total = int(num1) + int(num2)\n",
    "print(\"Total is:\", total)"
   ]
  },
  {
   "cell_type": "markdown",
   "id": "cdda8a78-27e2-46f0-8bf9-a0e467fa23e6",
   "metadata": {},
   "source": [
    "**Challenge2**\n",
    "\n",
    "Create a program that asks the user for two integers (you will have to call \n",
    "`input()` twice)\r\n",
    "If the value of their sum is zero, the program prints the string \"Zero .\r\n",
    "Otherwise it prints the sum in integer form."
   ]
  },
  {
   "cell_type": "code",
   "execution_count": 16,
   "id": "47df67a9-004b-4ddc-add4-999f18ca0d05",
   "metadata": {},
   "outputs": [
    {
     "name": "stdin",
     "output_type": "stream",
     "text": [
      "Enter a number:  5\n",
      "Enter another number:  15\n"
     ]
    },
    {
     "name": "stdout",
     "output_type": "stream",
     "text": [
      "The sum of the two numbers is: 20\n"
     ]
    }
   ],
   "source": [
    "# Solution\n",
    "\n",
    "num1 = input(\"Enter a number: \")\n",
    "num2 = input(\"Enter another number: \")\n",
    "total = sum([int(num1), int(num2)])\n",
    "\n",
    "if total == 0:\n",
    "    print(\"Zero\")\n",
    "else:\n",
    "    print(\"The sum of the two numbers is:\", total)"
   ]
  },
  {
   "cell_type": "markdown",
   "id": "6bbaae9b-2603-45a7-9798-4f8be79217f6",
   "metadata": {},
   "source": [
    "**Challenge3**\n",
    "\n",
    "Create a program that asks the user integers.\r\n",
    "If the value of their sum is zero, the program prints the string \"Zero\".\r\n",
    "Otherwise it prints the sum in integer form."
   ]
  },
  {
   "cell_type": "code",
   "execution_count": 10,
   "id": "f6252e67-87ec-403f-8792-508454474439",
   "metadata": {},
   "outputs": [
    {
     "name": "stdin",
     "output_type": "stream",
     "text": [
      "Enter an integer or type done to finish: 5\n",
      "Enter an integer or type done to finish: 15\n",
      "Enter an integer or type done to finish: done\n"
     ]
    },
    {
     "name": "stdout",
     "output_type": "stream",
     "text": [
      "20\n"
     ]
    }
   ],
   "source": [
    "# Solution\n",
    "\n",
    "def adder():\n",
    "    total_sum = 0\n",
    "    \n",
    "    while True:\n",
    "        number_input = input(\"Enter an integer or type done to finish:\")\n",
    "        if number_input == \"done\":\n",
    "            break\n",
    "            \n",
    "        try:\n",
    "            nums = int(number_input)\n",
    "            total_sum += nums\n",
    "            \n",
    "        except ValueError:\n",
    "            print(\"Please enter a valid integer\")\n",
    "            \n",
    "    if total_sum == 0:\n",
    "        print(\"Zero\")\n",
    "    else:\n",
    "        print(total_sum)\n",
    "        \n",
    "adder()"
   ]
  },
  {
   "cell_type": "markdown",
   "id": "8e01ea59-8964-4180-866d-12ad4fd1c3ad",
   "metadata": {},
   "source": [
    "**Challenge4**\n",
    "\n",
    "Create a program that asks the user for a name, and the program prints \n",
    "\"Hello, \""
   ]
  },
  {
   "cell_type": "code",
   "execution_count": 24,
   "id": "5913f41d-c55d-461e-8723-f0ac1b72ca6c",
   "metadata": {},
   "outputs": [
    {
     "name": "stdin",
     "output_type": "stream",
     "text": [
      "Enter your name below:  Cyrus Baruc\n"
     ]
    },
    {
     "name": "stdout",
     "output_type": "stream",
     "text": [
      "Hello,  Cyrus Baruc!.\n"
     ]
    }
   ],
   "source": [
    "# Solution\n",
    "\n",
    "print(\"Hello, \", input(\"Enter your name below: \")+\"!.\")\n"
   ]
  },
  {
   "cell_type": "markdown",
   "id": "8a640d1d-7961-46d4-b768-350ab304a003",
   "metadata": {},
   "source": [
    "**Challenge5**\n",
    "\n",
    "Create a program that asks the user for a name. \n",
    "If the number of characters in the name of the person is less than 7 \r\n",
    "the program prints \"Hello, {name} .\r\n",
    "Otherwise it prints \"Hi, {name}\""
   ]
  },
  {
   "cell_type": "code",
   "execution_count": 27,
   "id": "613b08d2-b80a-41a9-9250-39003f90460f",
   "metadata": {},
   "outputs": [
    {
     "name": "stdin",
     "output_type": "stream",
     "text": [
      "Enter your name:  Cyrus Baruc\n"
     ]
    },
    {
     "name": "stdout",
     "output_type": "stream",
     "text": [
      "Hi Cyrus Baruc!\n"
     ]
    }
   ],
   "source": [
    "# Solution\n",
    "\n",
    "name = input(\"Enter your name: \")\n",
    "\n",
    "if len(name) < 7:\n",
    "    print(\"Hello\", name)\n",
    "else:\n",
    "    print(\"Hi\", name + \"!\")\n"
   ]
  },
  {
   "cell_type": "markdown",
   "id": "9ab810c4-3aa4-4f27-9f3f-8d2d0c8ff410",
   "metadata": {},
   "source": [
    "**Challenge6**\n",
    "\n",
    "Create a program that asks the user for n names. After collecting \n",
    "names, print the following for every inputted name:\r\n",
    "If the number of characters in the name of the person is less than  ,\r\n",
    "the program prints \"Hello {name \".\r\n",
    "Otherwise it prints \"Hi {name}\""
   ]
  },
  {
   "cell_type": "code",
   "execution_count": 32,
   "id": "0b702bbb-1e7b-46b9-8684-ae955032d023",
   "metadata": {},
   "outputs": [
    {
     "name": "stdin",
     "output_type": "stream",
     "text": [
      "Enter a name (or type 'done' to finish):  Natalia\n",
      "Enter a name (or type 'done' to finish):  Serene\n",
      "Enter a name (or type 'done' to finish):  Cyanna\n",
      "Enter a name (or type 'done' to finish):  Louise\n",
      "Enter a name (or type 'done' to finish):  Joy\n",
      "Enter a name (or type 'done' to finish):  Cyrus\n",
      "Enter a name (or type 'done' to finish):  Andiana\n",
      "Enter a name (or type 'done' to finish):  Dodong\n",
      "Enter a name (or type 'done' to finish):  done\n"
     ]
    },
    {
     "name": "stdout",
     "output_type": "stream",
     "text": [
      "Hi, Natalia!\n",
      "Hello, Serene!\n",
      "Hello, Cyanna!\n",
      "Hello, Louise!\n",
      "Hello, Joy!\n",
      "Hello, Cyrus!\n",
      "Hi, Andiana!\n",
      "Hello, Dodong!\n"
     ]
    }
   ],
   "source": [
    "# Solution\n",
    "\n",
    "def greeter():\n",
    "    names = []\n",
    "\n",
    "    while True:\n",
    "        name = input(\"Enter a name (or type 'done' to finish): \")\n",
    "        if name.lower() == \"done\":\n",
    "            break\n",
    "        names.append(name)\n",
    "    \n",
    "    for name in names:\n",
    "        if len(name) < 7:\n",
    "            print(f\"Hello, {name}!\")\n",
    "        else:\n",
    "            print(f\"Hi, {name}!\")\n",
    "\n",
    "greeter()\n"
   ]
  },
  {
   "cell_type": "markdown",
   "id": "3b47cee0-b04b-49ed-a3d0-56fcaf651e73",
   "metadata": {},
   "source": [
    "**Challenge7**\n",
    "\n",
    "Create a program that asks the user for a float. The program prints the \n",
    "conversion of the number to Fahrenheit"
   ]
  },
  {
   "cell_type": "code",
   "execution_count": 38,
   "id": "97d6f1ec-61f5-4281-984e-897542104e99",
   "metadata": {},
   "outputs": [
    {
     "name": "stdin",
     "output_type": "stream",
     "text": [
      "Enter a temperature in celcius from 0 to 100: 35\n"
     ]
    },
    {
     "name": "stdout",
     "output_type": "stream",
     "text": [
      "This is equivalent to 95.00 degrees farenheit.\n"
     ]
    }
   ],
   "source": [
    "# Solution\n",
    "\n",
    "cel = float(input(\"Enter a temperature in celcius from 0 to 100:\"))\n",
    "far = cel * (9/5) + 32\n",
    "print(f\"This is equivalent to {far:.2f} degrees farenheit.\")\n"
   ]
  },
  {
   "cell_type": "markdown",
   "id": "0f97737e-a24d-491c-88c5-b50e1ce83e21",
   "metadata": {},
   "source": [
    "**Challenge8**\n",
    "\n",
    "Create a program that asks the user for a float. The program prints the conversion of the number to Fahrenheit.\n",
    "If the value is below the freezing point of water, the program prints \" {fahrenheit} degrees Fahrenheit cold\".\n",
    "If the value is above the boiling point of water, the program prints \" {fahrenheit} degrees Fahrenheit hot\".\n",
    "Otherwise the program prints \"{fahrenheit} degrees Fahrenheit\""
   ]
  },
  {
   "cell_type": "code",
   "execution_count": 42,
   "id": "14b37983-624a-47d7-b457-580bb618e2c9",
   "metadata": {},
   "outputs": [
    {
     "name": "stdin",
     "output_type": "stream",
     "text": [
      "Enter a number: 50\n"
     ]
    },
    {
     "name": "stdout",
     "output_type": "stream",
     "text": [
      "122.0  degrees Fahrenheit\n"
     ]
    }
   ],
   "source": [
    "# Solution\n",
    "\n",
    "num = float(input(\"Enter a number:\"))\n",
    "result = (num * (9/5)) + 32\n",
    "if result <= 32:\n",
    "\tprint(f\"{result}\", \" degrees Fahrenheit cold\")\n",
    "elif result >= 212:\n",
    "\tprint(f\"{result}\", \" degrees Fahrenheit hot\")\n",
    "else:\n",
    "    print(f\"{result}\",\" degrees Fahrenheit\")\n",
    "\n"
   ]
  },
  {
   "cell_type": "markdown",
   "id": "539d5daa-972f-4000-a40c-674f9c93cbd2",
   "metadata": {},
   "source": [
    "**Challenge9**\n",
    "\n",
    "Create a program that asks the user for three floats. The program prints \n",
    "the arithmetic mean of the number.s"
   ]
  },
  {
   "cell_type": "code",
   "execution_count": 45,
   "id": "28e4d9d8-14eb-48f9-8af2-1b9df578f686",
   "metadata": {},
   "outputs": [
    {
     "name": "stdin",
     "output_type": "stream",
     "text": [
      "Enter any number:  4\n",
      "Enter another number:  5\n",
      "Lastly, enter another number:  6\n"
     ]
    },
    {
     "name": "stdout",
     "output_type": "stream",
     "text": [
      "The mean of the numbers is 5.0.\n"
     ]
    }
   ],
   "source": [
    "# Solution\n",
    "\n",
    "num1 = float(input(\"Enter any number: \"))\n",
    "num2 = float(input(\"Enter another number: \"))\n",
    "num3 = float(input(\"Lastly, enter another number: \"))\n",
    "numlist = [num1,num2,num3]\n",
    "mean = sum(numlist) / len(numlist)\n",
    "\n",
    "print(f\"The mean of the numbers is {mean}.\")"
   ]
  },
  {
   "cell_type": "markdown",
   "id": "9681d1ff-320d-45b5-8b80-40ec90739b27",
   "metadata": {},
   "source": [
    "**Challenge10**\n",
    "\n",
    "Create a program that asks the user for three floats.\n",
    "If the mean is positive, print \"Negative mean\"\n",
    "If the mean is negative, print \"Positive mean\"\n",
    "If the mean is zero, print \"Zero mean\""
   ]
  },
  {
   "cell_type": "code",
   "execution_count": 48,
   "id": "3bffd6a4-629a-4e0b-92bc-3fa68faf024e",
   "metadata": {},
   "outputs": [
    {
     "name": "stdin",
     "output_type": "stream",
     "text": [
      "Enter a number:  -50\n",
      "Enter another number:  59\n",
      "Lastly, enter another number:  99\n"
     ]
    },
    {
     "name": "stdout",
     "output_type": "stream",
     "text": [
      "36.0 : Positive mean\n"
     ]
    }
   ],
   "source": [
    "# Solution\n",
    "\n",
    "_num1 = input(\"Enter a number: \")\n",
    "_num2 = input(\"Enter another number: \")\n",
    "_num3 = input(\"Lastly, enter another number: \")\n",
    "_mean = sum([int(_num1), int(_num2), int(_num3)])/ len([int(_num1), int(_num2), int(_num3)])\n",
    "_mean = round(_mean,2)\n",
    "if _mean > 0:\n",
    "\tprint(f\"{_mean} : Positive mean\")\n",
    "elif _mean < 0:\n",
    "\tprint(f\"{_mean} : Negative mean\")\n",
    "else: \n",
    "\tprint(f\"{_mean} : Zero mean\")"
   ]
  },
  {
   "cell_type": "markdown",
   "id": "af7bb6d2-347a-4564-9784-55362befb15f",
   "metadata": {},
   "source": [
    "**Challenge10**\n",
    "  \n",
    "Create a program that asks the user for floats. If the mean is positive, print \"Negative mean\". If the mean is negative, print \"Positive mean\". If the mean is zero, print \"Zero mean\"."
   ]
  },
  {
   "cell_type": "code",
   "execution_count": 51,
   "id": "503b64bc-11be-418d-85a0-31dea3e5222b",
   "metadata": {},
   "outputs": [
    {
     "name": "stdin",
     "output_type": "stream",
     "text": [
      "Enter a float (or type 'done' to finish):  4\n",
      "Enter a float (or type 'done' to finish):  5\n",
      "Enter a float (or type 'done' to finish):  6\n",
      "Enter a float (or type 'done' to finish):  7\n",
      "Enter a float (or type 'done' to finish):  8\n",
      "Enter a float (or type 'done' to finish):  9\n",
      "Enter a float (or type 'done' to finish):  10\n",
      "Enter a float (or type 'done' to finish):  11\n",
      "Enter a float (or type 'done' to finish):  12\n",
      "Enter a float (or type 'done' to finish):  done\n"
     ]
    },
    {
     "name": "stdout",
     "output_type": "stream",
     "text": [
      "Positive mean\n"
     ]
    }
   ],
   "source": [
    "# Solution\n",
    "\n",
    "def mean_calculator():\n",
    "    numbers = []    \n",
    "    while True:\n",
    "        user_input = input(\"Enter a float (or type 'done' to finish): \")\n",
    "        if user_input.lower() == 'done':\n",
    "            break\n",
    "        try:\n",
    "            number = float(user_input)\n",
    "            numbers.append(number)\n",
    "        except ValueError:\n",
    "            print(\"Please enter a valid float.\")\n",
    "    \n",
    "    if len(numbers) > 0:\n",
    "        mean_value = sum(numbers) / len(numbers)\n",
    "        \n",
    "        if mean_value > 0:\n",
    "            print(\"Positive mean\")\n",
    "        elif mean_value < 0:\n",
    "            print(\"Negative mean\")\n",
    "        else:\n",
    "            print(\"Zero mean\")\n",
    "    else:\n",
    "        print(\"No numbers were entered.\")\n",
    "\n",
    "mean_calculator()\n"
   ]
  },
  {
   "cell_type": "markdown",
   "id": "892c0edc-9940-4b20-94f3-b5d5916db63c",
   "metadata": {},
   "source": [
    "**Challenge11**\n",
    "\n",
    "Create a program that asks a user for a string and an integer. The program prints the string repeated n-times (where is the number inputted by the\n",
    "user)."
   ]
  },
  {
   "cell_type": "code",
   "execution_count": 54,
   "id": "20490812-7863-4458-b5ef-a8baaf0ede37",
   "metadata": {},
   "outputs": [
    {
     "name": "stdin",
     "output_type": "stream",
     "text": [
      "Enter a string:  ha\n",
      "Enter an integer:  5\n"
     ]
    },
    {
     "name": "stdout",
     "output_type": "stream",
     "text": [
      "hahahahaha\n"
     ]
    }
   ],
   "source": [
    "# Solution\n",
    "\n",
    "string = input(\"Enter a string: \")\n",
    "integer = int(input(\"Enter an integer: \"))\n",
    "\n",
    "print(string * integer)"
   ]
  },
  {
   "cell_type": "markdown",
   "id": "0f23c4a3-6c58-4eb5-af81-edd4a831a52e",
   "metadata": {},
   "source": [
    "**Challenge11**\n",
    "\n",
    "Create a program that asks a user for a string and an integer. The program prints the string repeated -times (where is the number inputted by the\n",
    "user). If the number of characters in the repeated string is greater than 20,the prints \"Too long, cannot print\" instead."
   ]
  },
  {
   "cell_type": "code",
   "execution_count": 59,
   "id": "0b666d06-c59d-4043-98b0-119e14cc4e40",
   "metadata": {},
   "outputs": [
    {
     "name": "stdin",
     "output_type": "stream",
     "text": [
      "Enter a string:  The quick brown fox jumps over the lazy dog.\n",
      "Enter a number:  10\n"
     ]
    },
    {
     "name": "stdout",
     "output_type": "stream",
     "text": [
      "Too long, cannot print\n"
     ]
    }
   ],
   "source": [
    "# Solution\n",
    "\n",
    "input_1 = input(\"Enter a string: \")\n",
    "input_2 = input(\"Enter a number: \")\n",
    "result = input_1 * int(input_2)\n",
    "if len(result) > 20:\n",
    "\tprint(\"Too long, cannot print\")\t\n",
    "else:\n",
    "\tprint(result)"
   ]
  },
  {
   "cell_type": "code",
   "execution_count": null,
   "id": "bdca7cb8-0eb0-47a5-9b46-df405933cf1d",
   "metadata": {},
   "outputs": [],
   "source": []
  }
 ],
 "metadata": {
  "kernelspec": {
   "display_name": "Python 3 (ipykernel)",
   "language": "python",
   "name": "python3"
  },
  "language_info": {
   "codemirror_mode": {
    "name": "ipython",
    "version": 3
   },
   "file_extension": ".py",
   "mimetype": "text/x-python",
   "name": "python",
   "nbconvert_exporter": "python",
   "pygments_lexer": "ipython3",
   "version": "3.11.7"
  }
 },
 "nbformat": 4,
 "nbformat_minor": 5
}
